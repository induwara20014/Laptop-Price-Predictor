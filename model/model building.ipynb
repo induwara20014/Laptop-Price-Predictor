{
 "cells": [
  {
   "metadata": {
    "ExecuteTime": {
     "end_time": "2025-10-26T15:22:04.317591Z",
     "start_time": "2025-10-26T15:21:58.021724Z"
    }
   },
   "cell_type": "code",
   "source": [
    "!pip install numpy\n",
    "!pip install pandas"
   ],
   "id": "45f1fc03ffcc5e4d",
   "outputs": [
    {
     "name": "stdout",
     "output_type": "stream",
     "text": [
      "Requirement already satisfied: numpy in c:\\users\\asus\\onedrive\\desktop\\python project\\laptop price predictor\\laptop-price-predictor\\model\\.venv\\lib\\site-packages (2.3.4)\n"
     ]
    },
    {
     "name": "stderr",
     "output_type": "stream",
     "text": [
      "\n",
      "[notice] A new release of pip is available: 25.2 -> 25.3\n",
      "[notice] To update, run: python.exe -m pip install --upgrade pip\n"
     ]
    },
    {
     "name": "stdout",
     "output_type": "stream",
     "text": [
      "Requirement already satisfied: pandas in c:\\users\\asus\\onedrive\\desktop\\python project\\laptop price predictor\\laptop-price-predictor\\model\\.venv\\lib\\site-packages (2.3.3)\n",
      "Requirement already satisfied: numpy>=1.26.0 in c:\\users\\asus\\onedrive\\desktop\\python project\\laptop price predictor\\laptop-price-predictor\\model\\.venv\\lib\\site-packages (from pandas) (2.3.4)\n",
      "Requirement already satisfied: python-dateutil>=2.8.2 in c:\\users\\asus\\onedrive\\desktop\\python project\\laptop price predictor\\laptop-price-predictor\\model\\.venv\\lib\\site-packages (from pandas) (2.9.0.post0)\n",
      "Requirement already satisfied: pytz>=2020.1 in c:\\users\\asus\\onedrive\\desktop\\python project\\laptop price predictor\\laptop-price-predictor\\model\\.venv\\lib\\site-packages (from pandas) (2025.2)\n",
      "Requirement already satisfied: tzdata>=2022.7 in c:\\users\\asus\\onedrive\\desktop\\python project\\laptop price predictor\\laptop-price-predictor\\model\\.venv\\lib\\site-packages (from pandas) (2025.2)\n",
      "Requirement already satisfied: six>=1.5 in c:\\users\\asus\\onedrive\\desktop\\python project\\laptop price predictor\\laptop-price-predictor\\model\\.venv\\lib\\site-packages (from python-dateutil>=2.8.2->pandas) (1.17.0)\n"
     ]
    },
    {
     "name": "stderr",
     "output_type": "stream",
     "text": [
      "\n",
      "[notice] A new release of pip is available: 25.2 -> 25.3\n",
      "[notice] To update, run: python.exe -m pip install --upgrade pip\n"
     ]
    }
   ],
   "execution_count": 1
  },
  {
   "metadata": {
    "ExecuteTime": {
     "end_time": "2025-10-26T15:22:05.509977Z",
     "start_time": "2025-10-26T15:22:04.777507Z"
    }
   },
   "cell_type": "code",
   "source": [
    "import numpy as np\n",
    "import pandas as pd"
   ],
   "id": "4100aca63c2469fc",
   "outputs": [],
   "execution_count": 2
  },
  {
   "metadata": {
    "ExecuteTime": {
     "end_time": "2025-10-26T15:22:21.768493Z",
     "start_time": "2025-10-26T15:22:05.762449Z"
    }
   },
   "cell_type": "code",
   "source": [
    "import pandas as pd\n",
    "\n",
    "url = \"https://raw.githubusercontent.com/dineshpiyasamara/LaptopPricePredictor/master/model%20building/laptop_price.csv\"\n",
    "data = pd.read_csv(url, encoding=\"latin-1\")\n",
    "\n",
    "print(data.head())"
   ],
   "id": "6903da963dbefa08",
   "outputs": [
    {
     "name": "stdout",
     "output_type": "stream",
     "text": [
      "   laptop_ID Company      Product   TypeName  Inches  \\\n",
      "0          1   Apple  MacBook Pro  Ultrabook    13.3   \n",
      "1          2   Apple  Macbook Air  Ultrabook    13.3   \n",
      "2          3      HP       250 G6   Notebook    15.6   \n",
      "3          4   Apple  MacBook Pro  Ultrabook    15.4   \n",
      "4          5   Apple  MacBook Pro  Ultrabook    13.3   \n",
      "\n",
      "                     ScreenResolution                         Cpu   Ram  \\\n",
      "0  IPS Panel Retina Display 2560x1600        Intel Core i5 2.3GHz   8GB   \n",
      "1                            1440x900        Intel Core i5 1.8GHz   8GB   \n",
      "2                   Full HD 1920x1080  Intel Core i5 7200U 2.5GHz   8GB   \n",
      "3  IPS Panel Retina Display 2880x1800        Intel Core i7 2.7GHz  16GB   \n",
      "4  IPS Panel Retina Display 2560x1600        Intel Core i5 3.1GHz   8GB   \n",
      "\n",
      "                            Gpu  OpSys  Weight  Price_euros  \n",
      "0  Intel Iris Plus Graphics 640  macOS  1.37kg      1339.69  \n",
      "1        Intel HD Graphics 6000  macOS  1.34kg       898.94  \n",
      "2         Intel HD Graphics 620  No OS  1.86kg       575.00  \n",
      "3            AMD Radeon Pro 455  macOS  1.83kg      2537.45  \n",
      "4  Intel Iris Plus Graphics 650  macOS  1.37kg      1803.60  \n"
     ]
    }
   ],
   "execution_count": 3
  },
  {
   "metadata": {
    "ExecuteTime": {
     "end_time": "2025-10-26T15:22:21.862423Z",
     "start_time": "2025-10-26T15:22:21.853993Z"
    }
   },
   "cell_type": "code",
   "source": "data.shape",
   "id": "9186bf11563c2074",
   "outputs": [
    {
     "data": {
      "text/plain": [
       "(1303, 12)"
      ]
     },
     "execution_count": 4,
     "metadata": {},
     "output_type": "execute_result"
    }
   ],
   "execution_count": 4
  },
  {
   "metadata": {
    "ExecuteTime": {
     "end_time": "2025-10-26T15:22:21.951554Z",
     "start_time": "2025-10-26T15:22:21.925245Z"
    }
   },
   "cell_type": "code",
   "source": "data.isnull()",
   "id": "f3ca0387e47ec604",
   "outputs": [
    {
     "data": {
      "text/plain": [
       "      laptop_ID  Company  Product  TypeName  Inches  ScreenResolution    Cpu  \\\n",
       "0         False    False    False     False   False             False  False   \n",
       "1         False    False    False     False   False             False  False   \n",
       "2         False    False    False     False   False             False  False   \n",
       "3         False    False    False     False   False             False  False   \n",
       "4         False    False    False     False   False             False  False   \n",
       "...         ...      ...      ...       ...     ...               ...    ...   \n",
       "1298      False    False    False     False   False             False  False   \n",
       "1299      False    False    False     False   False             False  False   \n",
       "1300      False    False    False     False   False             False  False   \n",
       "1301      False    False    False     False   False             False  False   \n",
       "1302      False    False    False     False   False             False  False   \n",
       "\n",
       "        Ram    Gpu  OpSys  Weight  Price_euros  \n",
       "0     False  False  False   False        False  \n",
       "1     False  False  False   False        False  \n",
       "2     False  False  False   False        False  \n",
       "3     False  False  False   False        False  \n",
       "4     False  False  False   False        False  \n",
       "...     ...    ...    ...     ...          ...  \n",
       "1298  False  False  False   False        False  \n",
       "1299  False  False  False   False        False  \n",
       "1300  False  False  False   False        False  \n",
       "1301  False  False  False   False        False  \n",
       "1302  False  False  False   False        False  \n",
       "\n",
       "[1303 rows x 12 columns]"
      ],
      "text/html": [
       "<div>\n",
       "<style scoped>\n",
       "    .dataframe tbody tr th:only-of-type {\n",
       "        vertical-align: middle;\n",
       "    }\n",
       "\n",
       "    .dataframe tbody tr th {\n",
       "        vertical-align: top;\n",
       "    }\n",
       "\n",
       "    .dataframe thead th {\n",
       "        text-align: right;\n",
       "    }\n",
       "</style>\n",
       "<table border=\"1\" class=\"dataframe\">\n",
       "  <thead>\n",
       "    <tr style=\"text-align: right;\">\n",
       "      <th></th>\n",
       "      <th>laptop_ID</th>\n",
       "      <th>Company</th>\n",
       "      <th>Product</th>\n",
       "      <th>TypeName</th>\n",
       "      <th>Inches</th>\n",
       "      <th>ScreenResolution</th>\n",
       "      <th>Cpu</th>\n",
       "      <th>Ram</th>\n",
       "      <th>Gpu</th>\n",
       "      <th>OpSys</th>\n",
       "      <th>Weight</th>\n",
       "      <th>Price_euros</th>\n",
       "    </tr>\n",
       "  </thead>\n",
       "  <tbody>\n",
       "    <tr>\n",
       "      <th>0</th>\n",
       "      <td>False</td>\n",
       "      <td>False</td>\n",
       "      <td>False</td>\n",
       "      <td>False</td>\n",
       "      <td>False</td>\n",
       "      <td>False</td>\n",
       "      <td>False</td>\n",
       "      <td>False</td>\n",
       "      <td>False</td>\n",
       "      <td>False</td>\n",
       "      <td>False</td>\n",
       "      <td>False</td>\n",
       "    </tr>\n",
       "    <tr>\n",
       "      <th>1</th>\n",
       "      <td>False</td>\n",
       "      <td>False</td>\n",
       "      <td>False</td>\n",
       "      <td>False</td>\n",
       "      <td>False</td>\n",
       "      <td>False</td>\n",
       "      <td>False</td>\n",
       "      <td>False</td>\n",
       "      <td>False</td>\n",
       "      <td>False</td>\n",
       "      <td>False</td>\n",
       "      <td>False</td>\n",
       "    </tr>\n",
       "    <tr>\n",
       "      <th>2</th>\n",
       "      <td>False</td>\n",
       "      <td>False</td>\n",
       "      <td>False</td>\n",
       "      <td>False</td>\n",
       "      <td>False</td>\n",
       "      <td>False</td>\n",
       "      <td>False</td>\n",
       "      <td>False</td>\n",
       "      <td>False</td>\n",
       "      <td>False</td>\n",
       "      <td>False</td>\n",
       "      <td>False</td>\n",
       "    </tr>\n",
       "    <tr>\n",
       "      <th>3</th>\n",
       "      <td>False</td>\n",
       "      <td>False</td>\n",
       "      <td>False</td>\n",
       "      <td>False</td>\n",
       "      <td>False</td>\n",
       "      <td>False</td>\n",
       "      <td>False</td>\n",
       "      <td>False</td>\n",
       "      <td>False</td>\n",
       "      <td>False</td>\n",
       "      <td>False</td>\n",
       "      <td>False</td>\n",
       "    </tr>\n",
       "    <tr>\n",
       "      <th>4</th>\n",
       "      <td>False</td>\n",
       "      <td>False</td>\n",
       "      <td>False</td>\n",
       "      <td>False</td>\n",
       "      <td>False</td>\n",
       "      <td>False</td>\n",
       "      <td>False</td>\n",
       "      <td>False</td>\n",
       "      <td>False</td>\n",
       "      <td>False</td>\n",
       "      <td>False</td>\n",
       "      <td>False</td>\n",
       "    </tr>\n",
       "    <tr>\n",
       "      <th>...</th>\n",
       "      <td>...</td>\n",
       "      <td>...</td>\n",
       "      <td>...</td>\n",
       "      <td>...</td>\n",
       "      <td>...</td>\n",
       "      <td>...</td>\n",
       "      <td>...</td>\n",
       "      <td>...</td>\n",
       "      <td>...</td>\n",
       "      <td>...</td>\n",
       "      <td>...</td>\n",
       "      <td>...</td>\n",
       "    </tr>\n",
       "    <tr>\n",
       "      <th>1298</th>\n",
       "      <td>False</td>\n",
       "      <td>False</td>\n",
       "      <td>False</td>\n",
       "      <td>False</td>\n",
       "      <td>False</td>\n",
       "      <td>False</td>\n",
       "      <td>False</td>\n",
       "      <td>False</td>\n",
       "      <td>False</td>\n",
       "      <td>False</td>\n",
       "      <td>False</td>\n",
       "      <td>False</td>\n",
       "    </tr>\n",
       "    <tr>\n",
       "      <th>1299</th>\n",
       "      <td>False</td>\n",
       "      <td>False</td>\n",
       "      <td>False</td>\n",
       "      <td>False</td>\n",
       "      <td>False</td>\n",
       "      <td>False</td>\n",
       "      <td>False</td>\n",
       "      <td>False</td>\n",
       "      <td>False</td>\n",
       "      <td>False</td>\n",
       "      <td>False</td>\n",
       "      <td>False</td>\n",
       "    </tr>\n",
       "    <tr>\n",
       "      <th>1300</th>\n",
       "      <td>False</td>\n",
       "      <td>False</td>\n",
       "      <td>False</td>\n",
       "      <td>False</td>\n",
       "      <td>False</td>\n",
       "      <td>False</td>\n",
       "      <td>False</td>\n",
       "      <td>False</td>\n",
       "      <td>False</td>\n",
       "      <td>False</td>\n",
       "      <td>False</td>\n",
       "      <td>False</td>\n",
       "    </tr>\n",
       "    <tr>\n",
       "      <th>1301</th>\n",
       "      <td>False</td>\n",
       "      <td>False</td>\n",
       "      <td>False</td>\n",
       "      <td>False</td>\n",
       "      <td>False</td>\n",
       "      <td>False</td>\n",
       "      <td>False</td>\n",
       "      <td>False</td>\n",
       "      <td>False</td>\n",
       "      <td>False</td>\n",
       "      <td>False</td>\n",
       "      <td>False</td>\n",
       "    </tr>\n",
       "    <tr>\n",
       "      <th>1302</th>\n",
       "      <td>False</td>\n",
       "      <td>False</td>\n",
       "      <td>False</td>\n",
       "      <td>False</td>\n",
       "      <td>False</td>\n",
       "      <td>False</td>\n",
       "      <td>False</td>\n",
       "      <td>False</td>\n",
       "      <td>False</td>\n",
       "      <td>False</td>\n",
       "      <td>False</td>\n",
       "      <td>False</td>\n",
       "    </tr>\n",
       "  </tbody>\n",
       "</table>\n",
       "<p>1303 rows × 12 columns</p>\n",
       "</div>"
      ]
     },
     "execution_count": 5,
     "metadata": {},
     "output_type": "execute_result"
    }
   ],
   "execution_count": 5
  },
  {
   "metadata": {
    "ExecuteTime": {
     "end_time": "2025-10-26T15:22:22.083615Z",
     "start_time": "2025-10-26T15:22:22.073559Z"
    }
   },
   "cell_type": "code",
   "source": "data.isnull().sum()",
   "id": "9fa35440508b9c45",
   "outputs": [
    {
     "data": {
      "text/plain": [
       "laptop_ID           0\n",
       "Company             0\n",
       "Product             0\n",
       "TypeName            0\n",
       "Inches              0\n",
       "ScreenResolution    0\n",
       "Cpu                 0\n",
       "Ram                 0\n",
       "Gpu                 0\n",
       "OpSys               0\n",
       "Weight              0\n",
       "Price_euros         0\n",
       "dtype: int64"
      ]
     },
     "execution_count": 6,
     "metadata": {},
     "output_type": "execute_result"
    }
   ],
   "execution_count": 6
  },
  {
   "metadata": {
    "ExecuteTime": {
     "end_time": "2025-10-26T15:22:22.474665Z",
     "start_time": "2025-10-26T15:22:22.461258Z"
    }
   },
   "cell_type": "code",
   "source": "data.info()",
   "id": "619c012f66071724",
   "outputs": [
    {
     "name": "stdout",
     "output_type": "stream",
     "text": [
      "<class 'pandas.core.frame.DataFrame'>\n",
      "RangeIndex: 1303 entries, 0 to 1302\n",
      "Data columns (total 12 columns):\n",
      " #   Column            Non-Null Count  Dtype  \n",
      "---  ------            --------------  -----  \n",
      " 0   laptop_ID         1303 non-null   int64  \n",
      " 1   Company           1303 non-null   object \n",
      " 2   Product           1303 non-null   object \n",
      " 3   TypeName          1303 non-null   object \n",
      " 4   Inches            1303 non-null   float64\n",
      " 5   ScreenResolution  1303 non-null   object \n",
      " 6   Cpu               1303 non-null   object \n",
      " 7   Ram               1303 non-null   object \n",
      " 8   Gpu               1303 non-null   object \n",
      " 9   OpSys             1303 non-null   object \n",
      " 10  Weight            1303 non-null   object \n",
      " 11  Price_euros       1303 non-null   float64\n",
      "dtypes: float64(2), int64(1), object(9)\n",
      "memory usage: 122.3+ KB\n"
     ]
    }
   ],
   "execution_count": 7
  },
  {
   "metadata": {
    "ExecuteTime": {
     "end_time": "2025-10-26T15:22:22.731742Z",
     "start_time": "2025-10-26T15:22:22.721462Z"
    }
   },
   "cell_type": "code",
   "source": [
    "data['Ram'] = data['Ram'].astype(str).str.replace('GB', '').astype('int32')\n",
    "data['Weight'] = data['Weight'].str.replace('kg','').astype('float32')"
   ],
   "id": "d14bd0c67d31e0f7",
   "outputs": [],
   "execution_count": 8
  },
  {
   "metadata": {
    "ExecuteTime": {
     "end_time": "2025-10-26T15:22:22.943626Z",
     "start_time": "2025-10-26T15:22:22.931760Z"
    }
   },
   "cell_type": "code",
   "source": "data.head(2)",
   "id": "c7184c9f4ff44694",
   "outputs": [
    {
     "data": {
      "text/plain": [
       "   laptop_ID Company      Product   TypeName  Inches  \\\n",
       "0          1   Apple  MacBook Pro  Ultrabook    13.3   \n",
       "1          2   Apple  Macbook Air  Ultrabook    13.3   \n",
       "\n",
       "                     ScreenResolution                   Cpu  Ram  \\\n",
       "0  IPS Panel Retina Display 2560x1600  Intel Core i5 2.3GHz    8   \n",
       "1                            1440x900  Intel Core i5 1.8GHz    8   \n",
       "\n",
       "                            Gpu  OpSys  Weight  Price_euros  \n",
       "0  Intel Iris Plus Graphics 640  macOS    1.37      1339.69  \n",
       "1        Intel HD Graphics 6000  macOS    1.34       898.94  "
      ],
      "text/html": [
       "<div>\n",
       "<style scoped>\n",
       "    .dataframe tbody tr th:only-of-type {\n",
       "        vertical-align: middle;\n",
       "    }\n",
       "\n",
       "    .dataframe tbody tr th {\n",
       "        vertical-align: top;\n",
       "    }\n",
       "\n",
       "    .dataframe thead th {\n",
       "        text-align: right;\n",
       "    }\n",
       "</style>\n",
       "<table border=\"1\" class=\"dataframe\">\n",
       "  <thead>\n",
       "    <tr style=\"text-align: right;\">\n",
       "      <th></th>\n",
       "      <th>laptop_ID</th>\n",
       "      <th>Company</th>\n",
       "      <th>Product</th>\n",
       "      <th>TypeName</th>\n",
       "      <th>Inches</th>\n",
       "      <th>ScreenResolution</th>\n",
       "      <th>Cpu</th>\n",
       "      <th>Ram</th>\n",
       "      <th>Gpu</th>\n",
       "      <th>OpSys</th>\n",
       "      <th>Weight</th>\n",
       "      <th>Price_euros</th>\n",
       "    </tr>\n",
       "  </thead>\n",
       "  <tbody>\n",
       "    <tr>\n",
       "      <th>0</th>\n",
       "      <td>1</td>\n",
       "      <td>Apple</td>\n",
       "      <td>MacBook Pro</td>\n",
       "      <td>Ultrabook</td>\n",
       "      <td>13.3</td>\n",
       "      <td>IPS Panel Retina Display 2560x1600</td>\n",
       "      <td>Intel Core i5 2.3GHz</td>\n",
       "      <td>8</td>\n",
       "      <td>Intel Iris Plus Graphics 640</td>\n",
       "      <td>macOS</td>\n",
       "      <td>1.37</td>\n",
       "      <td>1339.69</td>\n",
       "    </tr>\n",
       "    <tr>\n",
       "      <th>1</th>\n",
       "      <td>2</td>\n",
       "      <td>Apple</td>\n",
       "      <td>Macbook Air</td>\n",
       "      <td>Ultrabook</td>\n",
       "      <td>13.3</td>\n",
       "      <td>1440x900</td>\n",
       "      <td>Intel Core i5 1.8GHz</td>\n",
       "      <td>8</td>\n",
       "      <td>Intel HD Graphics 6000</td>\n",
       "      <td>macOS</td>\n",
       "      <td>1.34</td>\n",
       "      <td>898.94</td>\n",
       "    </tr>\n",
       "  </tbody>\n",
       "</table>\n",
       "</div>"
      ]
     },
     "execution_count": 9,
     "metadata": {},
     "output_type": "execute_result"
    }
   ],
   "execution_count": 9
  },
  {
   "metadata": {
    "ExecuteTime": {
     "end_time": "2025-10-26T15:22:23.253644Z",
     "start_time": "2025-10-26T15:22:23.244356Z"
    }
   },
   "cell_type": "code",
   "source": "data.corr(numeric_only=True)['Price_euros']\n",
   "id": "6ed1a7099cdc2b58",
   "outputs": [
    {
     "data": {
      "text/plain": [
       "laptop_ID      0.067830\n",
       "Inches         0.068197\n",
       "Ram            0.743007\n",
       "Weight         0.210370\n",
       "Price_euros    1.000000\n",
       "Name: Price_euros, dtype: float64"
      ]
     },
     "execution_count": 10,
     "metadata": {},
     "output_type": "execute_result"
    }
   ],
   "execution_count": 10
  },
  {
   "metadata": {
    "ExecuteTime": {
     "end_time": "2025-10-26T15:22:23.640184Z",
     "start_time": "2025-10-26T15:22:23.628711Z"
    }
   },
   "cell_type": "code",
   "source": "data['Company'].value_counts()",
   "id": "8c5d968a914b4ddb",
   "outputs": [
    {
     "data": {
      "text/plain": [
       "Company\n",
       "Dell         297\n",
       "Lenovo       297\n",
       "HP           274\n",
       "Asus         158\n",
       "Acer         103\n",
       "MSI           54\n",
       "Toshiba       48\n",
       "Apple         21\n",
       "Samsung        9\n",
       "Mediacom       7\n",
       "Razer          7\n",
       "Microsoft      6\n",
       "Vero           4\n",
       "Xiaomi         4\n",
       "Chuwi          3\n",
       "Fujitsu        3\n",
       "Google         3\n",
       "LG             3\n",
       "Huawei         2\n",
       "Name: count, dtype: int64"
      ]
     },
     "execution_count": 11,
     "metadata": {},
     "output_type": "execute_result"
    }
   ],
   "execution_count": 11
  },
  {
   "metadata": {
    "ExecuteTime": {
     "end_time": "2025-10-26T15:22:24.089105Z",
     "start_time": "2025-10-26T15:22:24.080238Z"
    }
   },
   "cell_type": "code",
   "source": [
    "def add_company(inpt):\n",
    "    if inpt == 'Samsung' or inpt == 'Razer' or inpt == 'Mediacom' or  inpt == 'Microsoft' or inpt == 'Vero' or inpt == 'Xiaomi' or inpt == 'Chuwi' or inpt == 'Google'  or inpt == 'Fujitsu' or inpt == 'LG' or inpt == 'Huawei':return 'Other'\n",
    "    else:\n",
    "        return inpt\n",
    "data['Company'] =  data['Company'].apply(add_company)"
   ],
   "id": "891cdc190340cd79",
   "outputs": [],
   "execution_count": 12
  },
  {
   "metadata": {
    "ExecuteTime": {
     "end_time": "2025-10-26T15:22:24.466831Z",
     "start_time": "2025-10-26T15:22:24.455419Z"
    }
   },
   "cell_type": "code",
   "source": "data['Company'].value_counts()",
   "id": "611e56bf818e2047",
   "outputs": [
    {
     "data": {
      "text/plain": [
       "Company\n",
       "Dell       297\n",
       "Lenovo     297\n",
       "HP         274\n",
       "Asus       158\n",
       "Acer       103\n",
       "MSI         54\n",
       "Other       51\n",
       "Toshiba     48\n",
       "Apple       21\n",
       "Name: count, dtype: int64"
      ]
     },
     "execution_count": 13,
     "metadata": {},
     "output_type": "execute_result"
    }
   ],
   "execution_count": 13
  },
  {
   "metadata": {
    "ExecuteTime": {
     "end_time": "2025-10-26T15:22:24.689664Z",
     "start_time": "2025-10-26T15:22:24.681505Z"
    }
   },
   "cell_type": "code",
   "source": "len(data['Product'].value_counts())",
   "id": "867a5ef8ea4349e2",
   "outputs": [
    {
     "data": {
      "text/plain": [
       "618"
      ]
     },
     "execution_count": 14,
     "metadata": {},
     "output_type": "execute_result"
    }
   ],
   "execution_count": 14
  },
  {
   "metadata": {
    "ExecuteTime": {
     "end_time": "2025-10-26T17:02:45.976820Z",
     "start_time": "2025-10-26T17:02:45.967474Z"
    }
   },
   "cell_type": "code",
   "source": "data['TypeName'].value_counts()",
   "id": "767f448ea616d21d",
   "outputs": [
    {
     "data": {
      "text/plain": [
       "TypeName\n",
       "Notebook              727\n",
       "Gaming                205\n",
       "Ultrabook             196\n",
       "2 in 1 Convertible    121\n",
       "Workstation            29\n",
       "Netbook                25\n",
       "Name: count, dtype: int64"
      ]
     },
     "execution_count": 15,
     "metadata": {},
     "output_type": "execute_result"
    }
   ],
   "execution_count": 15
  },
  {
   "metadata": {},
   "cell_type": "code",
   "outputs": [],
   "execution_count": null,
   "source": "",
   "id": "261c65bb009a6612"
  }
 ],
 "metadata": {
  "kernelspec": {
   "display_name": "Python 3 (ipykernel)",
   "language": "python",
   "name": "python3"
  },
  "language_info": {
   "codemirror_mode": {
    "name": "ipython",
    "version": 3
   },
   "file_extension": ".py",
   "mimetype": "text/x-python",
   "name": "python",
   "nbconvert_exporter": "python",
   "pygments_lexer": "ipython3",
   "version": "3.12.0"
  }
 },
 "nbformat": 4,
 "nbformat_minor": 5
}
